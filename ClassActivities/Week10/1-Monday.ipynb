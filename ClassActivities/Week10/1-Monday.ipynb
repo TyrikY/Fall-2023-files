{
  "cells": [
    {
      "cell_type": "markdown",
      "metadata": {},
      "source": [
        "# Monday, October 23\n",
        "\n",
        "## Announcements and Reminders\n",
        "\n",
        "- Chapter 10 reading: something is broken\n",
        "- Quiz on Wednesday (dictionaries)\n",
        "- Celebration of Mind Wednesday Evening\n",
        "- Exercises for Chapter 10: due Friday\n"
      ]
    },
    {
      "cell_type": "markdown",
      "metadata": {},
      "source": [
        "## Activity: Counting Words with Dictionaries\n",
        "\n",
        "Today we will continue to explore the `dictionary` type in python.\n",
        "\n",
        "### Motivating Question\n",
        "\n",
        "Which word appears most frequently in Edgar Alan Poe's poem *The Raven*?\n",
        "\n",
        "#### Strategy\n",
        "\n",
        "How would you do this by hand?  How would you keep track of your data?"
      ]
    },
    {
      "cell_type": "markdown",
      "metadata": {},
      "source": [
        "### Dictionary Basics\n",
        "\n",
        "A *dictionary* is a data type in python that holds an unordered list of *key:value* pairs.  The keys must be distinct, the values do not.  \n",
        "\n",
        "Here is an example:"
      ]
    },
    {
      "cell_type": "code",
      "execution_count": 6,
      "metadata": {},
      "outputs": [
        {
          "name": "stdout",
          "output_type": "stream",
          "text": [
            "42\n",
            "{'Oscar': 42, 'Sheldon': 73}\n",
            "42\n",
            "[42, 73]\n"
          ]
        }
      ],
      "source": [
        "fav_nums = {'Oscar': 42, 'Sheldon': 73}\n",
        "print(fav_nums['Oscar'])\n",
        "print(fav_nums)\n",
        "for person in fav_nums:\n",
        "    if len(person) < 6:\n",
        "        print(fav_nums[person])\n",
        "#for x in fav_nums.values():\n",
        "#    print(x)\n",
        "num_list = list(fav_nums.values())\n",
        "print(num_list)"
      ]
    },
    {
      "cell_type": "markdown",
      "metadata": {},
      "source": [
        "Some things to try:\n",
        "* How could we find the favorite number of someone in the dictionary?\n",
        "* How could we print out each favorite number?\n",
        "* How could we get a list of the favorite numbers?\n",
        "* How could we add a new person's favorite number?\n",
        "* How could we check whether 496 is anyone's favorite number?\n",
        "* How could we find the largest favorite number of anyone in the dictionary?\n",
        "\n",
        "Here are some dictionary methods you might try to use: `.get()`, `.items()`, `.keys()`, `.values()`, `.update()`, `.pop()`.\n"
      ]
    },
    {
      "cell_type": "code",
      "execution_count": 18,
      "metadata": {},
      "outputs": [
        {
          "name": "stdout",
          "output_type": "stream",
          "text": [
            "[('Oscar', 42), ('Sheldon', 73)]\n",
            "{'Oscar': 42, 'Sheldon': 73, 'Gigi': 8, 'Nirod': 21, 'Bryce': 23}\n",
            "5\n",
            "True\n"
          ]
        }
      ],
      "source": [
        "print(list(fav_nums.items()))\n",
        "fav_nums.update({'Gigi':8,'Nirod':21})\n",
        "fav_nums['Bryce'] = 23\n",
        "print(fav_nums)\n",
        "print(len(fav_nums))\n",
        "print(42 in fav_nums.values())"
      ]
    },
    {
      "cell_type": "code",
      "execution_count": 26,
      "metadata": {},
      "outputs": [
        {
          "name": "stdout",
          "output_type": "stream",
          "text": [
            "73\n",
            "Sheldon\n"
          ]
        }
      ],
      "source": [
        "nums = list(fav_nums.values())\n",
        "nums.sort(reverse = True)\n",
        "largest = nums[0]\n",
        "print(nums[0])\n",
        "for person in fav_nums:\n",
        "    if fav_nums[person] == largest:\n",
        "        print(person)"
      ]
    },
    {
      "cell_type": "markdown",
      "metadata": {},
      "source": [
        "#### Adding new elements to a dictionary\n",
        "\n",
        "With lists, we used `.append()` to add a new item to the list at the end of the list.  Or, if we want to change the item in the list at position 7 to the value 42, say, we could write `mylist[7] = 42`.\n",
        "\n",
        "Dictionaries can similarly be updated like this."
      ]
    },
    {
      "cell_type": "code",
      "execution_count": null,
      "metadata": {},
      "outputs": [],
      "source": [
        "fav_nums.update({\"Wes\":1})\n",
        "fav_nums['Edgar'] = 13\n",
        "\n",
        "print(fav_nums)"
      ]
    },
    {
      "cell_type": "markdown",
      "metadata": {},
      "source": [
        "##### Caution!\n",
        "\n",
        "What happens if you use `.update()` but there is already a key of the name you want to add?  One way to make sure this isn't the case is to use the `.get()` method.  This returns the value of the key, or if the key isn't present, it returns `None`.\n",
        "\n",
        "(You can also set a default value.)"
      ]
    },
    {
      "cell_type": "code",
      "execution_count": null,
      "metadata": {},
      "outputs": [],
      "source": [
        "fav_nums.get('Edgar')"
      ]
    },
    {
      "cell_type": "markdown",
      "metadata": {},
      "source": [
        "### Back to our main question\n",
        "\n",
        "Let's import the text of the poem (saved as `raven.txt` in this folder).  Print it out to make sure it worked."
      ]
    },
    {
      "cell_type": "code",
      "execution_count": 31,
      "metadata": {},
      "outputs": [
        {
          "name": "stdout",
          "output_type": "stream",
          "text": [
            "['The', 'Raven', 'Edgar', 'Allen', 'Poe', 'Once', 'upon', 'a', 'midnight', 'dreary,', 'while', 'I', 'pondered,', 'weak', 'and', 'weary', 'Over', 'many', 'a', 'quaint', 'and', 'curious', 'volume', 'of', 'forgotten', 'lore,', 'While', 'I', 'nodded,', 'nearly', 'napping,', 'suddenly', 'there', 'came', 'a', 'tapping,', 'As', 'of', 'someone', 'gently', 'rapping,', 'rapping', 'on', 'my', 'chamber', 'door.', \"'Tis\", 'some', \"visitor,'\", 'I', 'muttered,', \"'tapping\", 'on', 'my', 'chamber', 'door.', 'Only', 'this,', 'and', 'nothing', \"more.'\", 'Ah,', 'distinctly,', 'I', 'remember', 'it', 'was', 'in', 'the', 'bleak', 'December', 'And', 'each', 'separate', 'dying', 'ember', 'wrought', 'its', 'ghost', 'upon', 'the', 'floor.', 'Eagerly', 'I', 'wished', 'the', 'morrow,', 'vainly', 'I', 'had', 'sought', 'to', 'borrow', 'From', 'my', 'books', 'surcease', 'of', 'sorrow--sorrow', 'for', 'the', 'lost', 'Lenore;', 'For', 'the', 'rare', 'and', 'radiant', 'maiden', 'whom', 'the', 'angels', 'named', 'Lenore', 'Nameless', 'here', 'forever', 'more.', 'And', 'the', 'silken', 'sad', 'uncertainly', 'rustling', 'of', 'each', 'purple', 'curtain', 'Thrilled', 'me,', 'filled', 'me', 'with', 'fantastic', 'terror', 'never', 'felt', 'before.', 'So,', 'to', 'still', 'the', 'beating', 'of', 'my', 'heart,', 'I', 'stood', 'repeating', 'Tis', 'some', 'visitor', 'entreating', 'entrance', 'at', 'my', 'chamber', 'door.', 'Some', 'late', 'visitor', 'entreating', 'entrance', 'at', 'my', 'chamber', 'door.', 'This', 'it', 'is', 'and', 'nothing', 'more.', 'Presently', 'my', 'soul', 'grew', 'strong,', 'hesitating', 'then', 'no', 'longer', \"'Sir,'\", 'said', 'I,', \"'Or\", 'madam,', 'truly', 'your', 'forgiveness', 'I', 'implore.', 'But', 'the', 'fact', 'is,', 'I', 'was', 'napping,', 'and', 'so', 'gently', 'you', 'came', 'rapping,', 'And', 'so', 'faintly', 'you', 'came', 'tapping,', 'tapping', 'at', 'my', 'chamber', 'door,', 'That', 'I', 'scare', 'was', 'sure', 'I', 'heard', \"you'\", '-', 'here', 'I', 'opened', 'wide', 'the', 'door.', 'Darkness', 'there', 'and', 'nothing', 'more.', 'Deep', 'into', 'the', 'darkness,', 'peering;', 'long', 'I', 'stood', 'there,', 'wondering', 'fearing', 'Doubting,', 'dreaming', 'dreams', 'no', 'mortal', 'ever', 'dared', 'to', 'dream', 'before.', 'But', 'the', 'silence', 'was', 'unbroken,', 'and', 'the', 'stillness', 'gave', 'no', 'token', 'And', 'the', 'only', 'word', 'there', 'spoken', 'was', 'the', 'whispered', 'word', \"'Lenore!'\", 'This', 'I', 'whispered,', 'and', 'an', 'echo', 'murmered', 'back,', \"'Lenore!'\", 'Merely', 'this', 'and', 'nothing', 'more.', 'Back', 'into', 'my', 'chamber', 'turning,', 'all', 'my', 'soul', 'within', 'me', 'burning,', 'soon', 'again', 'I', 'heard', 'a', 'tapping', 'somewhat', 'louder', 'than', 'before.', \"'Surely,'\", 'said', 'I,', \"'surely,\", 'that', 'is', 'something', 'at', 'my', 'window', 'lattice', 'Let', 'me', 'see', 'then', 'what', 'thereat', 'is', 'and', 'this', 'mystery', 'explore.', 'Let', 'my', 'heart', 'be', 'still', 'a', 'minute,', 'and', 'this', 'mystery', 'explore.', 'Tis', 'the', 'wind', 'and', 'nothing', \"more!'\", 'Open', 'wide', 'I', 'flung', 'the', 'shutter,', 'when', 'with', 'many', 'a', 'flirt', 'and', 'flutter', 'In', 'there', 'stepped', 'a', 'stately', 'raven', 'of', 'the', 'saintly', 'days', 'of', 'yore.', 'Not', 'the', 'least', 'obesience', 'made', 'he,', 'not', 'a', 'minute', 'stopped', 'or', 'stayed', 'he', 'But', 'with', 'mein', 'of', 'lord', 'or', 'lady,', 'perched', 'above', 'my', 'chamber', 'door', 'Perched', 'upon', 'a', 'bust', 'of', 'Pallas', 'just', 'above', 'my', 'chamber', 'door.', 'Perched', 'and', 'sat', 'and', 'nothing', 'more.', 'Then', 'this', 'ebony', 'bird', 'beguiling', 'my', 'sad', 'fancy', 'into', 'smiling', 'By', 'the', 'grave', 'and', 'stern', 'decorum', 'of', 'the', 'countenance', 'it', 'wore', \"'Though\", 'thy', 'crest', 'be', 'shorn', 'and', 'shaven,', \"thou,'\", 'I', 'said,', \"'art\", 'sure', 'no', 'craven', 'Ghastly,', 'grim', 'and', 'ancient', 'raven,', 'wandering', 'from', 'the', 'nightly', 'shore.', 'Tell', 'me', 'what', 'thy', 'lordly', 'name', 'is,', 'on', 'the', \"night's\", 'Plutonean', \"shore!'\", 'Quoth', 'the', 'raven:', \"'Nevermore.'\", 'Much', 'I', 'marvelled', 'this', 'ungainly', 'foul', 'to', 'hear', 'discource', 'so', 'plainly.', 'Though', 'its', 'answer', 'little', 'meaning,', 'little', 'relevancy', 'bore.', 'For', 'we', 'cannot', 'help', 'agreeing', 'that', 'no', 'living', 'human', 'being', 'Ever', 'yet', 'was', 'blessed', 'with', 'seeing', 'bird', 'above', 'his', 'chamber', 'door', 'Bird', 'or', 'beast', 'upon', 'the', 'scultured', 'bust', 'above', 'his', 'chamber', 'door', 'With', 'such', 'name', 'as', \"'Nevermore.'\", 'But', 'the', 'Raven,', 'sitting', 'lonely', 'on', 'the', 'placid', 'bust,', 'spoke', 'only', 'That', 'one', 'word,', 'as', 'if', 'his', 'soul,', 'in', 'that', 'one', 'word,', 'he', 'did', 'out', 'outpour.', 'Nothing', 'further', 'then', 'he', 'uttered;', 'not', 'a', 'feather', 'then', 'he', 'fluttered;', \"'Till\", 'I', 'scarcely', 'more', 'than', 'muttered,', '\"Other', 'friends', 'have', 'flown', 'before.\"', 'On', 'the', 'morrow,', 'he', 'will', 'leave', 'me,', 'as', 'my', 'hopes', 'have', 'flown', 'before.\"', 'But', 'the', 'bird', 'said,', \"'Nevermore.'\", 'Startled', 'at', 'the', 'stillness', 'broken,', 'by', 'reply', 'so', 'aptly', 'spoken.', \"'Doubtless,'\", 'said', 'I,', \"'what\", 'it', 'utters', 'is', 'its', 'only', 'stock', 'and', 'store.', 'Caught', 'from', 'some', 'unhappy', 'master,', 'whom', 'unmerciful', 'disaster', 'Followed', 'fast', 'and', 'followed', 'faster,', 'till', 'his', 'song', 'that', 'burden', 'bore.', 'Til', 'the', 'dirges', 'of', 'his', 'hopes', 'that', 'melenchology', 'burden', 'bore', 'Of', '\"Never-nevermore.\"\\'', 'But', 'the', 'raven', 'still', 'beguiling', 'my', 'sad', 'fancy', 'into', 'smiling', 'Straight', 'I', 'wheeled', 'a', 'cushioned', 'seet', 'in', 'front', 'of', 'bird', 'and', 'bust', 'and', 'door', 'Then', 'upon', 'the', 'velvet', 'sinking,', 'I', 'betook', 'myself', 'to', 'linking', 'fancy', 'unto', 'fancy', 'thinking', 'what', 'this', 'ominous', 'bird', 'of', 'yore,', 'What', 'this', 'grim,', 'ungainly,', 'ghastly,', 'gaunt,', 'and', 'ominous', 'bird', 'of', 'yore', 'Meant', 'in', 'croaking', \"'Nevermore.'\", 'This', 'I', 'sat', 'engaged', 'in', 'guessing,', 'but', 'no', 'syllable', 'expressing', 'To', 'the', 'fowl', 'whose', 'fiery', 'eyes', 'now', 'burned', 'into', 'my', \"bosom's\", 'core', 'This', 'and', 'more', 'I', 'sat', 'divining,', 'with', 'my', 'head', 'at', 'rest', 'reclining', 'On', 'the', \"cushion's\", 'velvet', 'lining', 'that', 'the', 'lamplight', 'gloated', \"o'er\", 'But', 'whose', 'velvet', 'violet', 'lining', 'with', 'the', 'lamplight', 'gloating', \"o'er\", 'She', 'shall', 'press,', 'ah,', 'nevermore!', 'Then', 'methought', 'the', 'air', 'grew', 'denser,', 'perfumed', 'from', 'an', 'unseen', 'censor', 'Swung', 'by', 'Seraphim', 'whose', 'footfalls', 'tinkled', 'on', 'the', 'tufted', 'floor.', \"'Wretch,'\", 'I', 'cried,', \"'thy\", 'God', 'hath', 'lent', 'thee,', 'by', 'these', 'angels', 'he', 'hath', 'sent', 'thee', 'Respite,', 'respite', 'and', 'nepenthe', 'from', 'the', 'memories', 'of', 'Lenore.', 'Quaff', 'oh', 'quaff', 'this', 'kind', 'nepenthe', 'and', 'forget', 'this', 'lost', \"Lenore.'\", 'Quoth', 'the', 'raven,', \"'Nevermore.'\", \"'Prophet!'\", 'said', 'I,', \"'thing\", 'of', 'evil,', 'prophet', 'still', 'if', 'bird', 'or', 'devil.', 'Whether', 'temptor', 'sent', 'or', 'tempest', 'tossed', 'thee', 'here', 'ashore.', 'Desolate', 'and', 'all', 'undaunted,', 'by', 'this', 'desert', 'land', 'enchanted', 'By', 'this', 'home', 'of', 'horrors', 'haunted,', 'Tell', 'me', 'truly', 'I', 'implore', 'Is', 'there,', 'is', 'there,', 'balm', 'in', 'Gilead,', 'tell', 'me,', 'tell', 'me,', 'I', \"implore!'\", 'Quoth', 'the', 'raven,', \"'Nevermore.'\", \"'Prophet'\", 'said', 'I,', \"'thing\", 'of', 'evil,', 'prophet', 'still', 'if', 'bird', 'or', 'devil', 'Get', 'thee', 'back', 'into', 'the', 'tempest', 'and', 'the', \"night's\", 'Plutonean', 'shore', 'Tell', 'this', 'soul', 'with', 'sorrow', 'laden,', 'if', 'within', 'some', 'distant', 'Aidenn', 'It', 'will', 'clasp', 'a', 'saintly', 'maiden', 'whom', 'the', 'angels', 'name', 'Lenore', 'Clasp', 'a', 'rare', 'and', 'radiant', 'maiden', 'whom', 'the', 'angels', 'name', \"Lenore?'\", 'Quoth', 'the', 'raven,', \"'Nevermore.'\", 'Be', 'that', 'word', 'our', 'sign', 'of', 'parting,', 'bird', 'or', 'fiend,', 'I', 'shieked', 'upstarting', \"'Get\", 'thee', 'back', 'into', 'the', 'tempest', 'and', 'the', \"night's\", 'Plutonean', 'shore', 'Leave', 'no', 'black', 'plume', 'as', 'a', 'token', 'of', 'the', 'lie', 'thy', 'soul', 'has', 'spoken', 'Leave', 'my', 'loneliness', 'unbroken,', 'quit', 'the', 'bust', 'above', 'my', 'door', 'Take', 'thy', 'beak', 'from', 'out', 'my', 'heart', 'and', 'take', 'thy', 'form', 'from', 'off', 'my', \"door.'\", 'Quoth', 'the', 'raven,', \"'Nevermore.'\", 'And', 'the', 'raven,', 'never', 'flitting,', 'still', 'is', 'sitting,', 'still', 'is', 'sitting', 'On', 'the', 'pallid', 'bust', 'of', 'Pallas,', 'just', 'above', 'my', 'chamber', 'door.', 'And', 'his', 'eyes', 'have', 'all', 'the', 'seeming', 'of', 'a', \"daemon's\", 'that', 'is', 'dreaming', 'And', 'the', 'lamplight', \"o'er\", 'him', 'streaming,', 'throws', 'his', 'shadow', 'on', 'the', 'floor.', 'And', 'my', 'soul', 'from', 'out', 'that', 'shadow', 'floating', 'on', 'the', 'chamber', 'floor', 'Shall', 'be', 'lifted--nevermore.']\n",
            "8\n"
          ]
        }
      ],
      "source": [
        "with open(\"raven.txt\",\"r\") as f:\n",
        "    text = f.read()\n",
        "\n",
        "#print(text)\n",
        "words = text.split()\n",
        "print(words)\n",
        "\n",
        "counter = 0\n",
        "for word in words:\n",
        "    if word == \"\":\n",
        "        counter += 1\n",
        "\n",
        "print(counter)"
      ]
    },
    {
      "cell_type": "markdown",
      "metadata": {},
      "source": [
        "Next we should make a list of words.\n",
        "\n",
        "What about punctuation?  There are lots of different types of punctuation we need to consider.  Luckily, python has our backs with the `string` library."
      ]
    },
    {
      "cell_type": "code",
      "execution_count": 39,
      "metadata": {},
      "outputs": [
        {
          "name": "stdout",
          "output_type": "stream",
          "text": [
            "!\"#$%&'()*+,-./:;<=>?@[\\]^_`{|}~\n",
            "59\n"
          ]
        }
      ],
      "source": [
        "import string\n",
        "\n",
        "print(string.punctuation)\n",
        "\n",
        "clean_words = []\n",
        "for word in words:\n",
        "    word = word.lower()\n",
        "    for p in string.punctuation:\n",
        "        word = word.replace(p,\"\")\n",
        "    clean_words.append(word)\n",
        "\n",
        "counter = 0\n",
        "for word in clean_words:\n",
        "    if word == \"the\":\n",
        "        counter +=1\n",
        "\n",
        "print(counter)\n",
        "\n",
        "#print(clean_words)"
      ]
    },
    {
      "cell_type": "markdown",
      "metadata": {},
      "source": [
        "Remove all punctuation, and then create a list of words.\n",
        "\n",
        "Also, make all of them lower-case."
      ]
    },
    {
      "cell_type": "code",
      "execution_count": null,
      "metadata": {},
      "outputs": [],
      "source": []
    },
    {
      "cell_type": "markdown",
      "metadata": {},
      "source": [
        "### Counting words in the list\n",
        "\n",
        "Now we should have a list of words from the poem, not including any whitespace or punctiation and all the same case.  How can we count how many times each word appears?\n",
        "\n",
        "A few options:\n",
        "\n",
        "* For each word, we can use `.count()` to see how many times it appears and just print this.  \n",
        "* We could create a list of the number of times each word occurs in the same position as the word in the list of words.  \n",
        "* We could create a variable for each word and have it store the number of times the word occurs\n",
        "* Or we can do exactly this, but the right way: with a dictionary.\n",
        "\n",
        "Let's start working with a smaller example of a string."
      ]
    },
    {
      "cell_type": "code",
      "execution_count": null,
      "metadata": {},
      "outputs": [],
      "source": [
        "import string\n",
        "\n",
        "lyrics = \"We can dance if we want to We can leave your friends behind 'Cause your friends don't dance And if they don't dance Well, they're no friends of mine\"\n",
        "for mark in string.punctuation:\n",
        "  lyrics = lyrics.replace(mark,'')\n",
        "\n",
        "word_list = lyrics.lower().split()\n",
        "print(word_list)\n"
      ]
    },
    {
      "cell_type": "markdown",
      "metadata": {},
      "source": [
        "Now we will create a dictionary and start adding words to it."
      ]
    },
    {
      "cell_type": "code",
      "execution_count": 53,
      "metadata": {},
      "outputs": [
        {
          "ename": "TypeError",
          "evalue": "list indices must be integers or slices, not str",
          "output_type": "error",
          "traceback": [
            "\u001b[0;31m---------------------------------------------------------------------------\u001b[0m",
            "\u001b[0;31mTypeError\u001b[0m                                 Traceback (most recent call last)",
            "\u001b[1;32m/workspaces/Fall-2023-files/ClassActivities/Week10/1-Monday.ipynb Cell 21\u001b[0m line \u001b[0;36m8\n\u001b[1;32m      <a href='vscode-notebook-cell://codespaces%2Bimproved-succotash-4j76j7wq5pg925wq/workspaces/Fall-2023-files/ClassActivities/Week10/1-Monday.ipynb#X25sdnNjb2RlLXJlbW90ZQ%3D%3D?line=5'>6</a>\u001b[0m         wordcount[word] \u001b[39m+\u001b[39m\u001b[39m=\u001b[39m \u001b[39m1\u001b[39m\n\u001b[1;32m      <a href='vscode-notebook-cell://codespaces%2Bimproved-succotash-4j76j7wq5pg925wq/workspaces/Fall-2023-files/ClassActivities/Week10/1-Monday.ipynb#X25sdnNjb2RlLXJlbW90ZQ%3D%3D?line=6'>7</a>\u001b[0m     \u001b[39melse\u001b[39;00m:\n\u001b[0;32m----> <a href='vscode-notebook-cell://codespaces%2Bimproved-succotash-4j76j7wq5pg925wq/workspaces/Fall-2023-files/ClassActivities/Week10/1-Monday.ipynb#X25sdnNjb2RlLXJlbW90ZQ%3D%3D?line=7'>8</a>\u001b[0m         wordcount[word] \u001b[39m+\u001b[39m\u001b[39m=\u001b[39m \u001b[39m1\u001b[39m\n\u001b[1;32m      <a href='vscode-notebook-cell://codespaces%2Bimproved-succotash-4j76j7wq5pg925wq/workspaces/Fall-2023-files/ClassActivities/Week10/1-Monday.ipynb#X25sdnNjb2RlLXJlbW90ZQ%3D%3D?line=8'>9</a>\u001b[0m \u001b[39m# Check to see if the word is in the dictionary.  If so, add to its counter.  Otherwise, start a new entry with counter 1.\u001b[39;00m\n\u001b[1;32m     <a href='vscode-notebook-cell://codespaces%2Bimproved-succotash-4j76j7wq5pg925wq/workspaces/Fall-2023-files/ClassActivities/Week10/1-Monday.ipynb#X25sdnNjb2RlLXJlbW90ZQ%3D%3D?line=9'>10</a>\u001b[0m \u001b[39mprint\u001b[39m(wordcount)\n",
            "\u001b[0;31mTypeError\u001b[0m: list indices must be integers or slices, not str"
          ]
        }
      ],
      "source": [
        "# start with an empty dictionary\n",
        "wordcount = []\n",
        "# loop over words is word_list, adding them to the dictionary.\n",
        "for word in clean_words:\n",
        "    if word not in wordcount:\n",
        "        wordcount[word] += 1\n",
        "    else:\n",
        "        wordcount[word] += 1\n",
        "# Check to see if the word is in the dictionary.  If so, add to its counter.  Otherwise, start a new entry with counter 1.\n",
        "print(wordcount)"
      ]
    },
    {
      "cell_type": "markdown",
      "metadata": {},
      "source": [
        "#### Sorting the dictionary\n",
        "\n",
        "You cannot sort dictionaries!  But you can sort lists, and you can create a list out of a dictionary.  The tricky bit is figuring out how to sort that list based not on the words in the list, but by the value of the key that corresponds to that word in the dictionary.\n",
        "\n",
        "The idea is this: define a function that returns some value for each key of the dictionary, and sort by these returned values."
      ]
    },
    {
      "cell_type": "code",
      "execution_count": 50,
      "metadata": {},
      "outputs": [
        {
          "ename": "AttributeError",
          "evalue": "'list' object has no attribute 'items'",
          "output_type": "error",
          "traceback": [
            "\u001b[0;31m---------------------------------------------------------------------------\u001b[0m",
            "\u001b[0;31mAttributeError\u001b[0m                            Traceback (most recent call last)",
            "\u001b[1;32m/workspaces/Fall-2023-files/ClassActivities/Week10/1-Monday.ipynb Cell 23\u001b[0m line \u001b[0;36m1\n\u001b[0;32m----> <a href='vscode-notebook-cell://codespaces%2Bimproved-succotash-4j76j7wq5pg925wq/workspaces/Fall-2023-files/ClassActivities/Week10/1-Monday.ipynb#X31sdnNjb2RlLXJlbW90ZQ%3D%3D?line=0'>1</a>\u001b[0m results \u001b[39m=\u001b[39m \u001b[39mlist\u001b[39m(wordcount\u001b[39m.\u001b[39;49mitems())\n\u001b[1;32m      <a href='vscode-notebook-cell://codespaces%2Bimproved-succotash-4j76j7wq5pg925wq/workspaces/Fall-2023-files/ClassActivities/Week10/1-Monday.ipynb#X31sdnNjb2RlLXJlbW90ZQ%3D%3D?line=2'>3</a>\u001b[0m results\u001b[39m.\u001b[39msort()\n\u001b[1;32m      <a href='vscode-notebook-cell://codespaces%2Bimproved-succotash-4j76j7wq5pg925wq/workspaces/Fall-2023-files/ClassActivities/Week10/1-Monday.ipynb#X31sdnNjb2RlLXJlbW90ZQ%3D%3D?line=4'>5</a>\u001b[0m \u001b[39mprint\u001b[39m(results)\n",
            "\u001b[0;31mAttributeError\u001b[0m: 'list' object has no attribute 'items'"
          ]
        }
      ],
      "source": [
        "results = list(wordcount.items())\n",
        "\n",
        "results.sort()\n",
        "\n",
        "print(results)"
      ]
    }
  ],
  "metadata": {
    "colab": {
      "include_colab_link": true,
      "provenance": []
    },
    "kernelspec": {
      "display_name": "Python 3",
      "name": "python3"
    },
    "language_info": {
      "codemirror_mode": {
        "name": "ipython",
        "version": 3
      },
      "file_extension": ".py",
      "mimetype": "text/x-python",
      "name": "python",
      "nbconvert_exporter": "python",
      "pygments_lexer": "ipython3",
      "version": "3.10.8"
    }
  },
  "nbformat": 4,
  "nbformat_minor": 0
}
